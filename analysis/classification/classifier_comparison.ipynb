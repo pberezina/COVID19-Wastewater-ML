{
 "cells": [
  {
   "cell_type": "code",
   "execution_count": 1,
   "id": "424917c7-f8ee-4485-9619-f9364408bc96",
   "metadata": {},
   "outputs": [],
   "source": [
    "import pandas as pd\n",
    "import seaborn as sns\n",
    "import matplotlib.pyplot as plt\n",
    "import numpy as np\n",
    "import time\n",
    "from sklearn.neighbors import KNeighborsClassifier\n",
    "from sklearn.tree import DecisionTreeClassifier\n",
    "from sklearn.svm import SVC\n",
    "from sklearn.model_selection import train_test_split\n",
    "from sklearn.preprocessing import StandardScaler\n",
    "from matplotlib.colors import ListedColormap\n",
    "\n",
    "from models import CLASSIFIERS"
   ]
  },
  {
   "cell_type": "code",
   "execution_count": 2,
   "id": "0a9bcd56",
   "metadata": {},
   "outputs": [],
   "source": [
    "try:\n",
    "    from utils import DATA_PATH\n",
    "except ImportError:  # notebook being ran in child dir\n",
    "    import sys\n",
    "\n",
    "    sys.path.insert(0, \"..\")  # add parent to path\n",
    "    from utils import DATA_PATH"
   ]
  },
  {
   "cell_type": "code",
   "execution_count": 3,
   "id": "5dcf70f3",
   "metadata": {},
   "outputs": [
    {
     "data": {
      "text/plain": [
       "array([ 13.29291894, 711.44760093, 157.02970884,  62.51373575,\n",
       "         2.93802794,   2.93753846,   1.49365686, 396.76050771,\n",
       "        63.58358857, 133.11216081,   1.15279871, 812.32450856,\n",
       "       314.28808908,   4.33528179,   3.51135631,   3.54987883,\n",
       "         8.17949948,  37.52055855,  19.76218934,   7.47631206,\n",
       "        68.47920096,   2.62108788,   7.52374288,  12.5627735 ,\n",
       "        23.34586408, 226.73986524,   3.97211073,  34.89018845,\n",
       "        59.8747491 ,   1.37832375,  66.47135865,   3.24767357,\n",
       "         1.56730955, 702.51663392, 788.671413  , 266.19018885,\n",
       "         8.2005184 ,   1.96343416, 112.90133559,  20.91498133,\n",
       "         2.32335035,  30.58656667,   1.26813522, 534.51661106,\n",
       "         5.975028  ,  97.17775305,   8.61257919,  36.32486957,\n",
       "        43.66473593,   3.58561261, 810.50161264, 211.54290797,\n",
       "       658.41061601, 483.59527765,  62.18704728, 582.9384543 ,\n",
       "         1.84279704,   3.87211803,   1.36672729,   9.46217536,\n",
       "        14.65655389,   6.51699061, 306.34622106,  11.7560109 ,\n",
       "         6.96311438,  42.47058562,   2.64711418, 255.02980702,\n",
       "         1.67360102, 913.39958469, 207.36445178,   3.94590881,\n",
       "         1.03888231, 279.50159165, 131.99942262, 153.8230804 ,\n",
       "       205.97335357,   1.66776154,  11.89589674,   2.22642043,\n",
       "       388.42777547,  74.11299781,   9.83318193,   1.55122591,\n",
       "         8.56933193,   9.45257139, 154.46089075,  81.78476574,\n",
       "       458.81565492,  26.10025651,   2.28445569, 137.9540204 ,\n",
       "       191.58219548,  48.28715216, 205.5424552 ,  30.29610443,\n",
       "        36.99972431,  19.17004159,   1.19194819,   2.10704728,\n",
       "         1.24247471,  81.13929573,   8.77138034,  33.55151023,\n",
       "       528.07963769,   5.59598688,  17.02741689, 184.77934174,\n",
       "         4.85729518,   1.7019223 ,   7.40038576,   3.04553687,\n",
       "       615.30856016, 265.68139241,  79.47147425, 411.51130496,\n",
       "       257.64174425,   3.62835838, 476.07677518,  41.4979579 ,\n",
       "       264.43593078, 487.83606035,   8.99519174,   2.13872908,\n",
       "         4.82842497,  19.11275822, 284.47512555, 382.11294417,\n",
       "         1.04919543,  34.05978544,  17.87446326,   4.6379219 ,\n",
       "         2.28873811,  10.3001966 , 674.10742656,   9.32414022,\n",
       "        36.00575029, 128.54549965,  12.32789161, 822.89845733,\n",
       "       771.51057778,   5.69307477,  31.02740951,   7.99162192,\n",
       "         7.15354779,   1.2902113 ,  67.40513796,  32.21343741,\n",
       "         1.42704035,   6.85392571, 530.63715752,   5.23221609,\n",
       "         2.72072481,  29.40074131, 905.63117144,   5.32311458,\n",
       "       103.8500338 , 192.68985325,   5.16312491, 152.98506869,\n",
       "        12.68672126,  78.87102625,  79.54064938,  40.48778818,\n",
       "         1.86581814, 320.55863991,   9.16938472,   3.62706661,\n",
       "         1.32533426,  59.24870052, 107.81845035,   1.12140758,\n",
       "        34.37788662,   4.78065414,  86.20220426,   3.33502648,\n",
       "       118.25328508,  14.46125682, 645.9367086 ,   2.58560889,\n",
       "        10.54870271,   2.18988124, 594.40281134, 428.56634197,\n",
       "         5.94052576,  95.48873458, 282.92192255,  46.30228617,\n",
       "        38.81072316,   5.31565606,   1.90242832, 491.64007229,\n",
       "       502.63667232,  79.30569434,  10.40134192,  11.15908855,\n",
       "       150.61458747, 491.28191796, 458.41547801, 218.58816162,\n",
       "        84.35191342,   1.78821566,   3.05412032, 496.20663324,\n",
       "        65.96099208,   1.0655925 ,   2.01564771,  97.8374911 ,\n",
       "         1.03558262,   3.03685569,  44.27936337, 119.0379922 ,\n",
       "        90.34076806,   4.70769077, 136.9423146 ,   5.14928895,\n",
       "         9.46671046, 173.56982091,  88.89937284, 352.91509251,\n",
       "        93.93743056,  50.69041071,   1.90996014,  12.68082208,\n",
       "         6.24607368,   5.39472027, 829.91127385,  15.1109989 ,\n",
       "       474.39452211,  78.23766455, 242.34491447,  32.20410836,\n",
       "        53.79125215,  30.02984437,   3.85237862, 147.01320505,\n",
       "         6.95531954,   1.18289964,  86.38073354,   3.39885031,\n",
       "       662.7897036 , 727.42082649, 555.38375269,  12.89662586,\n",
       "         1.11267889, 609.47470772,  19.25539557, 794.26322918,\n",
       "       777.78565902, 362.26665947,   7.6444576 ,  14.29858909,\n",
       "       357.61029635,   8.92824328,   3.22461775,  46.81702225,\n",
       "       643.37520921, 122.48682857,  51.30781383,   1.95672359,\n",
       "        69.98769332, 933.60152043,   2.63179493,  35.89128084,\n",
       "       428.66617504, 166.84217902, 123.32389221, 128.071428  ,\n",
       "        11.9804589 ,   7.599334  , 267.96832798, 269.36439163,\n",
       "       399.22428866, 549.18878216,  34.20008588,  31.95574037,\n",
       "       248.24787344,  89.10289041, 127.61467882, 243.99336036,\n",
       "       467.75240102,  10.32726855,  13.38902208,   1.91401713,\n",
       "        54.30507565,   1.28181934,  24.93412052,  42.45549454,\n",
       "         7.23808629,  59.22427892,   1.23452745,   1.29432866,\n",
       "       293.63084978,  12.03848745,   2.40536805,  36.87480906,\n",
       "       204.16470207,   4.4408191 ,  73.90459263,   1.80319376,\n",
       "         1.42904256,  39.27027067,  41.87023176,  81.71272701,\n",
       "       150.75579011, 846.36216026,  35.39166911,   9.30827957,\n",
       "       242.97331796,   6.49376778,  20.74503931,   1.71936921,\n",
       "         1.19138528, 772.58317146, 322.0626496 , 122.4398019 ,\n",
       "        16.86004903,   3.31041896,   2.94653177,   5.63285659,\n",
       "        44.43037657, 139.24761586,  95.62955397,   6.91515137,\n",
       "       732.14287784, 163.56514014,  46.03224516,  68.41671828,\n",
       "        18.14680562,   5.53596032,  11.69278693, 187.73201058,\n",
       "         1.1045375 ,   2.22955362,   1.37406705,   1.32491009,\n",
       "       368.45270736, 129.11407201,  26.45583585,   1.96563321,\n",
       "        29.84335364,  26.32784499,   3.30830552,  20.02418955,\n",
       "        15.68607197,  70.39637468,  80.40461053,   1.36745181,\n",
       "        13.29957748,  75.43619025,  32.31534343, 371.08168808,\n",
       "        94.64134308,   3.0817917 ,   1.62819435,  84.57808245,\n",
       "         1.2009749 ,  57.19087535, 661.74508491,  53.26262098,\n",
       "        14.60527634,  85.08728286,  23.70056348,  43.3361542 ,\n",
       "       667.41263833,  14.39819044, 764.84193485, 520.05817291,\n",
       "         3.86699316,   1.61467047,   2.00601421,   1.13413689,\n",
       "         1.92012226, 111.94902622,   1.63518143,   9.05580143,\n",
       "       342.47268046,   1.17439936, 277.59104242,   7.00751965,\n",
       "         2.2620098 , 123.08680425,  77.05991761, 428.95925323,\n",
       "       160.40323816, 257.3017803 ,   7.01622839,   3.40658031,\n",
       "       178.58470262, 263.3323518 , 936.51648407,  17.29231072,\n",
       "        13.06334081, 213.42185101,  10.52956963, 619.82912139,\n",
       "       376.04364662,  19.36342074, 178.90117929, 183.49685377,\n",
       "         2.03878583, 510.10398938,  32.79118545, 301.55907211,\n",
       "         9.12323377, 485.92549472,  14.70974135,   1.0777374 ,\n",
       "       520.1707521 ,   1.87871123,   9.07697027, 708.24888773,\n",
       "       710.92115994,  52.51866335,  78.61612553,  22.1481046 ,\n",
       "         7.57935615,   9.68263668, 104.12508483, 180.76884714,\n",
       "       236.99388   , 233.80534128,   1.87766586,  30.42712468,\n",
       "         1.48825133,  44.52322833,  21.11502034, 460.37586544,\n",
       "        11.29132837,   2.24492093,   2.68519015, 192.54484473,\n",
       "        71.55734029,   2.01079607,   1.78780611, 126.73815903,\n",
       "         1.65306153, 292.13270352, 131.43973701,   1.75406766,\n",
       "         1.79685545, 911.8402013 ,  13.26821155,  12.93976655,\n",
       "       274.40922154, 694.61751846, 907.82720144, 182.02647368,\n",
       "        13.45174905,   1.78033672, 214.50664374,  47.33830998,\n",
       "        18.73553192, 523.67658432,   2.15572048,  30.05213374,\n",
       "         1.08158569,  25.46724263,   1.47540016,   2.27223764,\n",
       "         2.25205369,  88.64023655, 173.03527113,  56.24789773,\n",
       "       770.04773083,  13.3232979 ,   7.19674739, 403.45712046,\n",
       "         4.68584065, 775.6532532 ,   1.08758554, 812.15043287,\n",
       "         1.34734786, 471.44316217,  38.29158357, 952.56449142,\n",
       "         1.66490591,  45.87360315, 808.92378794,  37.09313435,\n",
       "        77.30292273, 122.24921159,  23.1005965 ,  76.32630532,\n",
       "        56.61648928, 505.21243499,   1.3687973 ,   6.964494  ,\n",
       "       709.96093425, 468.58820398,  23.27931829,  72.50998135,\n",
       "         6.79428169,   3.6674439 ,  24.60907075,  11.48303488,\n",
       "        56.35965625,   1.71081839, 837.88501417, 909.14307167,\n",
       "       124.30401086,  40.57785623,   8.48365207, 276.30265566,\n",
       "       113.29050629,   3.07504034, 540.48239641, 293.50244859,\n",
       "       706.96797301, 150.36907396,  69.22223029,  17.97749219,\n",
       "       628.32660614, 396.45296344,   1.36664592,   1.19977808,\n",
       "        13.47069803, 270.18422729, 915.85851587,   2.82651096,\n",
       "        60.58877139,  13.88905091, 812.35001616, 336.0135333 ,\n",
       "       327.33022885,  25.47296386,  17.55733141,   6.6103007 ,\n",
       "         1.4761364 , 392.79606532, 274.60157724, 998.05165664,\n",
       "       977.03587657,  46.37619536, 202.75064549, 682.80578134,\n",
       "       353.95020812,   5.52133763,  22.47151774,   2.44049682,\n",
       "       728.03638036,  65.84516698,   4.85208518, 103.53854394,\n",
       "        71.51295457,  11.87102321,   2.19115337, 103.44740167,\n",
       "        36.38506061, 207.46993707,  36.34883561, 360.20065727,\n",
       "        45.26062182,  48.17413381, 426.54102473,  16.2348619 ,\n",
       "         2.52374624,   1.21996685, 184.25181177,  72.59866825,\n",
       "       129.49091638,   4.3540407 ,   2.56515981,   1.10569157,\n",
       "        11.26581659,  58.85089346,  15.02215142,  20.5316932 ,\n",
       "       515.79375962,  11.08578371,  34.83120245, 224.36702954,\n",
       "        15.47491766,  73.49539032, 386.44805537, 705.60535967,\n",
       "         2.76197945, 602.23067872,  29.94669361,   5.95296275,\n",
       "        23.84554587, 871.15959806,  30.05067849,   9.68846179,\n",
       "        79.46988105,   5.25335629,   1.68884575,   2.4357862 ,\n",
       "         2.42179577,   2.8556704 ,   2.60904469,  83.68049382,\n",
       "         3.51269347,  10.88934732, 490.19088313,  26.41708665,\n",
       "       100.61742891,   3.28821051,   3.77456629,   1.32619031,\n",
       "         3.21221932,   6.85126896,   3.3964987 ,   1.8454726 ,\n",
       "         2.30095229,  24.11772307,   4.15911717,  12.38253554,\n",
       "        32.37813374, 117.81063203,   1.31200781, 250.16767753,\n",
       "        76.50699926,   1.75904559, 417.57632931, 578.91819798,\n",
       "         1.52487372,   6.77069023, 262.18258397, 175.70295725,\n",
       "         3.57736339,   4.24666468,  12.92457611,  28.41639334,\n",
       "        71.57548749,  12.78618308,  24.41204424, 174.74824162,\n",
       "         1.28839671,   5.71887801, 138.05392472, 484.86463981,\n",
       "        34.27933011,  39.47666496,   2.09660218,  21.99060109,\n",
       "        39.61428296,   5.33840491,   6.4228783 ,  13.54729192,\n",
       "         1.14871844,   9.25203989,   4.30867782,   9.6048825 ,\n",
       "         2.28710654, 469.44189168,  60.36390969, 108.97000164,\n",
       "       233.08467266,  31.28431116,   1.82289169,  40.86200056,\n",
       "        57.61337992, 172.31315034,  19.72325722,   2.41402025,\n",
       "         7.10113415,  12.28137208,  86.64663956,  51.56261257,\n",
       "        11.70281063, 911.05741338,  65.66356505,   5.14849595,\n",
       "         2.01998162,   2.87459998,   5.46856256,   3.03419941,\n",
       "         3.62828232,   7.16614359,   3.31223228, 490.11305843,\n",
       "         1.74060905,  37.45710158,  17.02905237, 885.39252426,\n",
       "         2.1682867 ,  15.61589201, 809.86251871, 394.93113893,\n",
       "       282.62866873,   5.93893376,   3.25583781, 101.37471815,\n",
       "       613.94288034,  46.8046152 ,  51.86066345,   6.91731067,\n",
       "       203.45988729,   3.64025029,   9.35486898,  18.89336505,\n",
       "        33.32967939,   5.33616435,   2.21060157,  67.89849176,\n",
       "         7.34330657,  55.42614381,   2.90461212,  27.76005393,\n",
       "        39.60666706,   1.43044318,  10.22852085,   2.53071961,\n",
       "         1.54926215, 932.99796646,   9.26961155, 268.9201455 ,\n",
       "         5.80660073, 110.7919399 , 190.84622754,  61.22322768,\n",
       "        25.98534969,  17.19977408,  11.13281006, 614.59274988,\n",
       "       310.35462615, 785.38161744,   2.35988951, 155.81254656,\n",
       "       653.16269224,   3.49702872,   1.58302875, 167.24839081,\n",
       "        52.89557464, 335.3407492 ,   2.6261355 , 243.10950306,\n",
       "         4.02607592,   3.09718986,   3.110265  , 277.79483116,\n",
       "        98.990077  ,  37.08482845,  11.92590793, 428.15559384,\n",
       "        15.04303002, 281.70744091,  20.76848063,  13.51553645,\n",
       "        24.43651993,   8.01924759, 174.91543744,  32.22264378,\n",
       "         4.97322474, 499.71653486,  14.17991619,  42.72268936,\n",
       "       524.10262258,  74.59573333,   2.24230209, 659.92771959,\n",
       "        76.40541856,  10.10920129,   2.6170753 , 241.03247919,\n",
       "        72.48001387,  39.84586653, 480.48269318, 232.16226582,\n",
       "         2.85118002,   8.61323315,   5.56502884, 170.54495536,\n",
       "         1.26065806,  51.24707171, 193.80994452, 426.87125438,\n",
       "        10.62295266, 290.91888475,   2.1473123 , 346.22376533,\n",
       "         2.41249258,  15.55470832, 246.53926525,   2.81677581,\n",
       "         4.87252623, 146.81069857, 144.58046249,  83.83838401,\n",
       "       120.73837693,  42.47890665,   5.69373404,  10.89150714,\n",
       "         3.50584855, 531.31451919,  56.25684654,  15.94242014,\n",
       "        24.32301518, 694.78433628,   2.88439152,  57.37061376,\n",
       "        32.93563467,  68.29087956,   1.13326259, 413.40119419,\n",
       "       625.68370915,  49.59062145, 123.01341399, 585.46123366,\n",
       "       132.34754903,   2.86825084,  53.56302308,  66.09142855,\n",
       "        18.72371465, 161.93201009, 635.47876712, 598.00599626,\n",
       "        22.51739334,   2.18632206, 900.58269354, 328.62020281,\n",
       "         2.36585456, 578.79616894, 407.08873639,  36.0175503 ,\n",
       "        59.40545235,  15.74012263,   1.45977162,  10.12958668,\n",
       "       256.18892173,   1.03251429,  10.01146227,  15.64970231,\n",
       "        40.94367383, 574.86629894,  10.94052047,  10.98650621,\n",
       "       163.11869727,  22.73284667,   4.71861418,  22.76766792,\n",
       "         2.64588559,   3.38190154,  31.26823147,  18.06243713,\n",
       "       555.31282442,  12.22310936,  55.17788514,  78.84839614,\n",
       "         1.09467039,  97.86155584,   3.42064418, 764.20689614,\n",
       "         2.79246786,  17.53365154,   1.8032212 , 978.63953312,\n",
       "        32.10591348,  61.11601826,   1.58938618, 177.77938979,\n",
       "         4.2630142 , 494.49609724,   4.12495221,   3.73304446,\n",
       "         1.28720881,  26.07359019,  49.49067758,   1.57443929,\n",
       "       212.12060156,  22.90163582,  37.42577549,  21.0033341 ,\n",
       "        15.9326928 ,  47.74424103,   2.92227268,   3.51385949,\n",
       "       384.90793388, 689.20177361,  13.18038053,   6.48984044,\n",
       "        85.5064015 ,  16.83458882,   1.1916784 ,   2.94074788,\n",
       "       140.5777819 ,  94.7920304 ,   1.20583526,   4.63357808,\n",
       "         4.93428681, 103.67599947,   1.14586014,   2.05270125,\n",
       "       251.04308091,   3.43268527,  90.83188427,   5.18260779,\n",
       "         1.98757799,   5.36434342, 146.82526575, 369.05356451,\n",
       "       309.49924484,  15.5435634 , 100.98466049,   4.12052816,\n",
       "         7.57605625, 488.66074814,   1.0939709 ,   1.80520111,\n",
       "         4.20396184,   1.20114825,   3.50192068,  56.12090721,\n",
       "        18.37695923, 476.4475886 , 283.3548726 ,  10.60356871,\n",
       "         6.00164496,  13.77454381,  59.00445829,   6.37075527,\n",
       "        74.54984135,  16.9135572 ,  45.30452095,  20.34134133,\n",
       "         7.64534836, 700.42222938, 195.35178437,   2.63232511,\n",
       "       403.09176677,  28.99302932, 482.67708435, 250.93761607,\n",
       "        18.86429214,   1.1679061 ,   6.3978209 ,  42.16019821,\n",
       "        79.51236285,   5.93831261,   2.61859432, 319.73539108,\n",
       "       897.8556959 ,  37.76335288,   3.2736923 ,   6.56027401,\n",
       "         1.1354605 , 553.21814957,   2.2555541 ,  53.64749235,\n",
       "         6.63996304,  45.9762989 ,  90.00386614, 308.47886274,\n",
       "         4.16163335,   1.07891563,   2.57428657, 501.25177733,\n",
       "       418.47568862,  61.97824958,  63.32141064,  98.88035652,\n",
       "         3.35825628, 553.65068015,  18.04311739,  14.10638019,\n",
       "        36.03737225,   1.38324115,   3.15391588, 163.71966574,\n",
       "         1.77172374,  64.48464724,   5.44561996,  14.71928933,\n",
       "         7.3465123 ,  11.6685838 , 143.59447018,   7.78690985,\n",
       "        50.02808982,  26.80101283,  97.95204244, 646.38194638,\n",
       "       157.65810117,   4.41388624,   1.24036472,   6.12057372,\n",
       "        60.98651153,   1.42651861,  30.83889026,  61.73458695,\n",
       "        10.06309731, 205.46441277,   2.088309  ,   1.6804026 ,\n",
       "       152.95591227,  30.653068  , 116.20028394,  20.15960488,\n",
       "         5.48537218, 286.62030448, 250.17714778, 121.36386887,\n",
       "         6.55292823,  58.9782661 ,  12.10379866,   1.8825487 ,\n",
       "       564.85987604,   2.57309543, 709.10747171,  21.77796617])"
      ]
     },
     "execution_count": 3,
     "metadata": {},
     "output_type": "execute_result"
    }
   ],
   "source": [
    "from sklearn.utils.fixes import loguniform\n",
    "rv = loguniform(1e0, 1e3)\n",
    "\n",
    "rv.rvs(random_state=42, size=1000)"
   ]
  },
  {
   "cell_type": "code",
   "execution_count": 4,
   "id": "96ca8bf4-1fb7-473e-8f79-5dade247ff55",
   "metadata": {},
   "outputs": [],
   "source": [
    "df = pd.read_csv(DATA_PATH, parse_dates=[\"Date\"])"
   ]
  },
  {
   "cell_type": "code",
   "execution_count": 5,
   "id": "fd36e0d9-0c89-40e5-950d-e43c581f3973",
   "metadata": {},
   "outputs": [
    {
     "name": "stdout",
     "output_type": "stream",
     "text": [
      "<class 'pandas.core.frame.DataFrame'>\n",
      "RangeIndex: 2041 entries, 0 to 2040\n",
      "Data columns (total 28 columns):\n",
      " #   Column                         Non-Null Count  Dtype         \n",
      "---  ------                         --------------  -----         \n",
      " 0   Unnamed: 0                     2041 non-null   int64         \n",
      " 1   Date                           2041 non-null   datetime64[ns]\n",
      " 2   Site                           2041 non-null   object        \n",
      " 3   Staff Reported Positive Tests  2041 non-null   int64         \n",
      " 4   # of Currently Positive Staff  2041 non-null   int64         \n",
      " 5    Staff Deaths                  2041 non-null   int64         \n",
      " 6   Staff Recovered                2041 non-null   int64         \n",
      " 7   Housing type                   2041 non-null   object        \n",
      " 8   Isolation Inmates              2041 non-null   int64         \n",
      " 9   Positive Inmates               2041 non-null   int64         \n",
      " 10  Confirmed Inmate Deaths        2041 non-null   int64         \n",
      " 11  Pending Results                2041 non-null   int64         \n",
      " 12  Recovered Inmates              2041 non-null   int64         \n",
      " 13  Daily Recovered                922 non-null    float64       \n",
      " 14  N1                             2041 non-null   float64       \n",
      " 15  N2                             2038 non-null   float64       \n",
      " 16  B.1.1.7 (Alpha)                727 non-null    float64       \n",
      " 17  B.1.351 (Beta)                 727 non-null    float64       \n",
      " 18  P.1 (Gamma)                    643 non-null    float64       \n",
      " 19  B.1.617 (Delta)                643 non-null    float64       \n",
      " 20  B.1.427/B.1.429 (Epsilon)      643 non-null    float64       \n",
      " 21  N679K/Q954H (Omicron)          84 non-null     float64       \n",
      " 22  Presumptive Cases              2040 non-null   float64       \n",
      " 23  Average Presumptive Cases      2041 non-null   int64         \n",
      " 24  Y                              2041 non-null   float64       \n",
      " 25  X                              2041 non-null   float64       \n",
      " 26  housing_factor                 2041 non-null   float64       \n",
      " 27  site_factor                    2041 non-null   float64       \n",
      "dtypes: datetime64[ns](1), float64(14), int64(11), object(2)\n",
      "memory usage: 446.6+ KB\n"
     ]
    }
   ],
   "source": [
    "df.info()"
   ]
  },
  {
   "cell_type": "code",
   "execution_count": 6,
   "id": "a3383ea4-b5fe-4ad4-9086-ca2cad0f4357",
   "metadata": {},
   "outputs": [
    {
     "data": {
      "text/plain": [
       "Index(['Unnamed: 0', 'Date', 'Site', 'Staff Reported Positive Tests',\n",
       "       '# of Currently Positive Staff', ' Staff Deaths', 'Staff Recovered',\n",
       "       'Housing type', 'Isolation Inmates', 'Positive Inmates',\n",
       "       'Confirmed Inmate Deaths', 'Pending Results', 'Recovered Inmates',\n",
       "       'Daily Recovered', 'N1', 'N2', 'B.1.1.7 (Alpha)', 'B.1.351 (Beta)',\n",
       "       'P.1 (Gamma)', 'B.1.617 (Delta)', 'B.1.427/B.1.429 (Epsilon)',\n",
       "       'N679K/Q954H (Omicron)', 'Presumptive Cases',\n",
       "       'Average Presumptive Cases', 'Y', 'X', 'housing_factor', 'site_factor'],\n",
       "      dtype='object')"
      ]
     },
     "execution_count": 6,
     "metadata": {},
     "output_type": "execute_result"
    }
   ],
   "source": [
    "df.columns"
   ]
  },
  {
   "cell_type": "code",
   "execution_count": 7,
   "id": "7db09704-dafd-42f2-83c3-9b132cbbb62d",
   "metadata": {},
   "outputs": [],
   "source": [
    "# Create color maps\n",
    "cmap_light = ListedColormap([\"#FFAAAA\", \"#AAFFAA\", \"#AAAAFF\"])\n",
    "cmap_bold = ListedColormap([\"#FF0000\", \"#00FF00\", \"#0000FF\"])"
   ]
  },
  {
   "cell_type": "code",
   "execution_count": 8,
   "id": "20237fc1-fd90-4a7e-93e5-974625d32843",
   "metadata": {},
   "outputs": [],
   "source": [
    "def set_x_cols(df, x_cols, y_col=\"housing_factor\", groups=(\"Site\")):\n",
    "    df = df.dropna(subset=[*x_cols, y_col])\n",
    "    X = df[x_cols]\n",
    "    y = df[y_col]\n",
    "    X = StandardScaler().fit_transform(X)\n",
    "    groups = df[groups]\n",
    "\n",
    "    X_train, X_test, y_train, y_test = train_test_split(X, y, random_state=1234, stratify=groups)\n",
    "\n",
    "    x0_min, x0_max = X[:, 0].min(), X[:, 0].max()\n",
    "    if X.shape[1] == 2:\n",
    "        x1_min, x1_max = X[:, 1].min(), X[:, 1].max()\n",
    "    else: x1_min, x1_max = x0_min, x0_max\n",
    "    h = abs(min(x0_min, x0_max, x1_min, x1_max) - max(x0_min, x0_max, x1_min, x1_max)) / 1000\n",
    "    xx0, xx1 = np.meshgrid(np.arange(x0_min, x0_max, h), np.arange(x1_min, x1_max, h))\n",
    "    \n",
    "    return X_train, X_test, X, y_train, y_test, y, xx0, xx1"
   ]
  },
  {
   "cell_type": "code",
   "execution_count": 15,
   "id": "2e8e6b98-920a-4651-8134-693da88985af",
   "metadata": {},
   "outputs": [],
   "source": [
    "def score_model(X_train, X_test, X, y_train, y_test, model):\n",
    "    model.fit(X_train, y_train)\n",
    "    score = model.score(X_test, y_test)\n",
    "    print(score)\n",
    "    return score\n",
    "\n",
    "def plot_clasifier(X, y, xx0, xx1, x_cols, score, model, model_type):\n",
    "\n",
    "    fig = plt.figure()\n",
    "\n",
    "    # Put the result into a color plot\n",
    "    start = time.time()\n",
    "    Z = model.predict(np.c_[xx0.ravel(), xx1.ravel()])\n",
    "    print(\"\\npredixtion time: \", time.time() - start)\n",
    "    Z = Z.reshape(xx0.shape)\n",
    "    plt.pcolormesh(xx0, xx1, Z, cmap=cmap_light, alpha=0.8, shading=\"auto\")\n",
    "\n",
    "    # Plot the data points\n",
    "    plt.scatter(X[:, 0], X[:, 1], c=y, cmap=cmap_bold, edgecolor=\"k\", s=20)\n",
    "\n",
    "    plt.xlabel(x_cols[0])\n",
    "    plt.ylabel(x_cols[1])\n",
    "    plt.xlim(xx0.min(), xx0.max())\n",
    "    plt.ylim(xx1.min(), xx1.max())\n",
    "    plt.title(f\"{model_type}\")\n",
    "    plt.text(\n",
    "        0.7,\n",
    "        0.1,\n",
    "        \"Test Classification\\nAccuracy: {:.2f}\".format(score),\n",
    "        size=15,\n",
    "        ha=\"center\",\n",
    "        va=\"center\",\n",
    "        transform=plt.gca().transAxes,\n",
    "    )\n",
    "    fig.savefig(DATA_PATH.parent / f\"figures/classifier-{model_type}_by{x_cols[0]}_{x_cols[1]}\")\n",
    "    plt.show()\n",
    "    \n",
    "\n",
    "def score_and_plot_classifiers(X_train, X_test, X, y_train, y_test, y, xx0, xx1, x_cols):\n",
    "    for d in CLASSIFIERS.values():\n",
    "        model = d[\"model\"]\n",
    "        model_type = d[\"label\"]\n",
    "        print(f\"Model type: {model_type}\")\n",
    "        score = score_model(X_train, X_test, X, y_train, y_test, model)\n",
    "        plot_clasifier(X, y, xx0, xx1, x_cols, score, model, model_type)"
   ]
  },
  {
   "cell_type": "code",
   "execution_count": 16,
   "id": "3a118a2d-9611-4d19-958a-d2992f23950c",
   "metadata": {},
   "outputs": [
    {
     "name": "stdout",
     "output_type": "stream",
     "text": [
      "0.6653620352250489\n"
     ]
    }
   ],
   "source": [
    "x_cols = [\"Recovered Inmates\"]\n",
    "X_train, X_test, X, y_train, y_test, y, xx0, xx1 = set_x_cols(df, x_cols)\n",
    "for d in CLASSIFIERS.values():\n",
    "    model = d[\"model\"]\n",
    "    score = score_model(X_train, X_test, X, y_train, y_test, model)"
   ]
  },
  {
   "cell_type": "code",
   "execution_count": 17,
   "id": "7c086650-67ed-47cf-be1e-8be64caef8eb",
   "metadata": {},
   "outputs": [
    {
     "name": "stdout",
     "output_type": "stream",
     "text": [
      "0.40313111545988256\n"
     ]
    }
   ],
   "source": [
    "x_cols = [ \"# of Currently Positive Staff\"]\n",
    "X_train, X_test, X, y_train, y_test, y, xx0, xx1 = set_x_cols(df, x_cols)\n",
    "for d in CLASSIFIERS.values():\n",
    "    model = d[\"model\"]\n",
    "    score = score_model(X_train, X_test, X, y_train, y_test, model)"
   ]
  },
  {
   "cell_type": "code",
   "execution_count": 18,
   "id": "cdde1fc1-6574-4c9a-a7ed-058548a49051",
   "metadata": {},
   "outputs": [
    {
     "name": "stdout",
     "output_type": "stream",
     "text": [
      "0.6810176125244618\n"
     ]
    }
   ],
   "source": [
    "x_cols = [\"Confirmed Inmate Deaths\"]\n",
    "X_train, X_test, X, y_train, y_test, y, xx0, xx1 = set_x_cols(df, x_cols)\n",
    "for d in CLASSIFIERS.values():\n",
    "    model = d[\"model\"]\n",
    "    score = score_model(X_train, X_test, X, y_train, y_test, model)"
   ]
  },
  {
   "cell_type": "code",
   "execution_count": 19,
   "id": "3e1f0fdc-6e85-4717-a4a8-48f94d9d6f39",
   "metadata": {},
   "outputs": [
    {
     "name": "stdout",
     "output_type": "stream",
     "text": [
      "0.9716312056737588\n"
     ]
    }
   ],
   "source": [
    "x_cols = [\"Confirmed Inmate Deaths\", \"Recovered Inmates\"]\n",
    "X_train, X_test, X, y_train, y_test, y, xx0, xx1 = set_x_cols(df.loc[(df[\"Recovered Inmates\"] >0) & (df[\"Confirmed Inmate Deaths\"] >0)], x_cols)\n",
    "for d in CLASSIFIERS.values():\n",
    "    model = d[\"model\"]\n",
    "    score = score_model(X_train, X_test, X, y_train, y_test, model)"
   ]
  },
  {
   "cell_type": "code",
   "execution_count": 20,
   "metadata": {},
   "outputs": [
    {
     "name": "stdout",
     "output_type": "stream",
     "text": [
      "0.5673758865248227\n"
     ]
    }
   ],
   "source": [
    "x_cols = ['# of Currently Positive Staff', 'Staff Recovered',]\n",
    "X_train, X_test, X, y_train, y_test, y, xx0, xx1 = set_x_cols(df.loc[(df[\"Recovered Inmates\"] >0) & (df[\"Confirmed Inmate Deaths\"] >0)], x_cols)\n",
    "for d in CLASSIFIERS.values():\n",
    "    model = d[\"model\"]\n",
    "    score = score_model(X_train, X_test, X, y_train, y_test, model)"
   ]
  },
  {
   "cell_type": "code",
   "execution_count": 21,
   "id": "110f9578-1f85-4779-b4b0-3bfab87b44a7",
   "metadata": {},
   "outputs": [
    {
     "name": "stdout",
     "output_type": "stream",
     "text": [
      "0.6653620352250489\n"
     ]
    }
   ],
   "source": [
    "x_cols = [ \"Recovered Inmates\"]\n",
    "X_train, X_test, X, y_train, y_test, y, xx0, xx1 = set_x_cols(df, x_cols)\n",
    "for d in CLASSIFIERS.values():\n",
    "    model = d[\"model\"]\n",
    "    score = score_model(X_train, X_test, X, y_train, y_test, model)"
   ]
  },
  {
   "cell_type": "code",
   "execution_count": 22,
   "id": "336c9ac9-753d-4646-bcaa-665dd3597fdc",
   "metadata": {},
   "outputs": [
    {
     "name": "stdout",
     "output_type": "stream",
     "text": [
      "Model type: KK Nearest Neighbor\n",
      "0.8884540117416829\n",
      "\n",
      "predixtion time:  51.8082160949707\n"
     ]
    },
    {
     "data": {
      "image/png": "[encoded data removed]",
      "text/plain": [
       "<Figure size 432x288 with 1 Axes>"
      ]
     },
     "metadata": {
      "needs_background": "light"
     },
     "output_type": "display_data"
    }
   ],
   "source": [
    "x_cols = [\"Confirmed Inmate Deaths\", \"Recovered Inmates\"]\n",
    "X_train, X_test, X, y_train, y_test, y, xx0, xx1 = set_x_cols(df, x_cols)\n",
    "score_and_plot_classifiers(X_train, X_test, X, y_train, y_test, y, xx0, xx1, x_cols)"
   ]
  },
  {
   "cell_type": "code",
   "execution_count": 23,
   "id": "22411e53",
   "metadata": {},
   "outputs": [
    {
     "name": "stdout",
     "output_type": "stream",
     "text": [
      "Model type: KK Nearest Neighbor\n",
      "0.598825831702544\n",
      "\n",
      "predixtion time:  21.246336936950684\n"
     ]
    },
    {
     "data": {
      "image/png": "[encoded data removed]",
      "text/plain": [
       "<Figure size 432x288 with 1 Axes>"
      ]
     },
     "metadata": {
      "needs_background": "light"
     },
     "output_type": "display_data"
    }
   ],
   "source": [
    "x_cols = ['# of Currently Positive Staff', 'Staff Recovered',]\n",
    "X_train, X_test, X, y_train, y_test, y, xx0, xx1 = set_x_cols(df, x_cols)\n",
    "score_and_plot_classifiers(X_train, X_test, X, y_train, y_test, y, xx0, xx1, x_cols)"
   ]
  },
  {
   "cell_type": "code",
   "execution_count": null,
   "id": "9b68ccba",
   "metadata": {},
   "outputs": [],
   "source": []
  },
  {
   "cell_type": "code",
   "execution_count": null,
   "id": "91bd25ca",
   "metadata": {},
   "outputs": [],
   "source": []
  },
  {
   "cell_type": "code",
   "execution_count": null,
   "id": "7247f9f2",
   "metadata": {},
   "outputs": [],
   "source": []
  }
 ],
 "metadata": {
  "kernelspec": {
   "display_name": "Python 3 (ipykernel)",
   "language": "python",
   "name": "python3"
  },
  "language_info": {
   "codemirror_mode": {
    "name": "ipython",
    "version": 3
   },
   "file_extension": ".py",
   "mimetype": "text/x-python",
   "name": "python",
   "nbconvert_exporter": "python",
   "pygments_lexer": "ipython3",
   "version": "3.7.13"
  }
 },
 "nbformat": 4,
 "nbformat_minor": 5
}
