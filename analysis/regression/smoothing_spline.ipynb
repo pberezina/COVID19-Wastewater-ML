{
 "cells": [
  {
   "cell_type": "code",
   "execution_count": 139,
   "metadata": {},
   "outputs": [],
   "source": [
    "from patsy import dmatrix\n",
    "import statsmodels.api as sm\n",
    "import pandas as pd\n",
    "from sklearn.metrics import mean_squared_error, r2_score\n",
    "import numpy as np\n",
    "import matplotlib.pyplot as plt\n",
    "import seaborn as sns\n",
    "\n",
    "from sklearn.linear_model import LinearRegression\n",
    "from sklearn.preprocessing import PolynomialFeatures\n",
    "\n"
   ]
  },
  {
   "cell_type": "code",
   "execution_count": 2,
   "metadata": {},
   "outputs": [],
   "source": [
    "try:\n",
    "    from utils import split_data, load_data, DATA_PATH, inverse_transform\n",
    "except ImportError:  # notebook being ran in child dir\n",
    "    import sys; sys.path.insert(0, '..')  # add parent to path\n",
    "    from utils import split_data, load_data, DATA_PATH, inverse_transform"
   ]
  },
  {
   "cell_type": "code",
   "execution_count": 3,
   "metadata": {},
   "outputs": [],
   "source": [
    "df = load_data(DATA_PATH)"
   ]
  },
  {
   "cell_type": "code",
   "execution_count": 4,
   "metadata": {},
   "outputs": [
    {
     "name": "stdout",
     "output_type": "stream",
     "text": [
      "<class 'pandas.core.frame.DataFrame'>\n",
      "RangeIndex: 2041 entries, 0 to 2040\n",
      "Data columns (total 28 columns):\n",
      " #   Column                         Non-Null Count  Dtype         \n",
      "---  ------                         --------------  -----         \n",
      " 0   Unnamed: 0                     2041 non-null   int64         \n",
      " 1   Date                           2041 non-null   datetime64[ns]\n",
      " 2   Site                           2041 non-null   object        \n",
      " 3   Staff Reported Positive Tests  2041 non-null   int64         \n",
      " 4   # of Currently Positive Staff  2041 non-null   int64         \n",
      " 5    Staff Deaths                  2041 non-null   int64         \n",
      " 6   Staff Recovered                2041 non-null   int64         \n",
      " 7   Housing type                   2041 non-null   object        \n",
      " 8   Isolation Inmates              2041 non-null   int64         \n",
      " 9   Positive Inmates               2041 non-null   int64         \n",
      " 10  Confirmed Inmate Deaths        2041 non-null   int64         \n",
      " 11  Pending Results                2041 non-null   int64         \n",
      " 12  Recovered Inmates              2041 non-null   int64         \n",
      " 13  Daily Recovered                922 non-null    float64       \n",
      " 14  N1                             2041 non-null   float64       \n",
      " 15  N2                             2038 non-null   float64       \n",
      " 16  B.1.1.7 (Alpha)                727 non-null    float64       \n",
      " 17  B.1.351 (Beta)                 727 non-null    float64       \n",
      " 18  P.1 (Gamma)                    643 non-null    float64       \n",
      " 19  B.1.617 (Delta)                643 non-null    float64       \n",
      " 20  B.1.427/B.1.429 (Epsilon)      643 non-null    float64       \n",
      " 21  N679K/Q954H (Omicron)          84 non-null     float64       \n",
      " 22  Presumptive Cases              2040 non-null   float64       \n",
      " 23  Average Presumptive Cases      2041 non-null   int64         \n",
      " 24  Y                              2041 non-null   float64       \n",
      " 25  X                              2041 non-null   float64       \n",
      " 26  housing_factor                 2041 non-null   float64       \n",
      " 27  site_factor                    2041 non-null   float64       \n",
      "dtypes: datetime64[ns](1), float64(14), int64(11), object(2)\n",
      "memory usage: 446.6+ KB\n"
     ]
    }
   ],
   "source": [
    "df.info()"
   ]
  },
  {
   "cell_type": "code",
   "execution_count": 5,
   "metadata": {},
   "outputs": [
    {
     "data": {
      "text/plain": [
       "Index(['Unnamed: 0', 'Date', 'Site', 'Staff Reported Positive Tests',\n",
       "       '# of Currently Positive Staff', ' Staff Deaths', 'Staff Recovered',\n",
       "       'Housing type', 'Isolation Inmates', 'Positive Inmates',\n",
       "       'Confirmed Inmate Deaths', 'Pending Results', 'Recovered Inmates',\n",
       "       'Daily Recovered', 'N1', 'N2', 'B.1.1.7 (Alpha)', 'B.1.351 (Beta)',\n",
       "       'P.1 (Gamma)', 'B.1.617 (Delta)', 'B.1.427/B.1.429 (Epsilon)',\n",
       "       'N679K/Q954H (Omicron)', 'Presumptive Cases',\n",
       "       'Average Presumptive Cases', 'Y', 'X', 'housing_factor', 'site_factor'],\n",
       "      dtype='object')"
      ]
     },
     "execution_count": 5,
     "metadata": {},
     "output_type": "execute_result"
    }
   ],
   "source": [
    "df.columns"
   ]
  },
  {
   "cell_type": "code",
   "execution_count": 6,
   "metadata": {},
   "outputs": [],
   "source": [
    "df[\"N_avg\"] = (df.N1 + df.N2) / 2"
   ]
  },
  {
   "cell_type": "code",
   "execution_count": 119,
   "metadata": {},
   "outputs": [],
   "source": [
    "q75, q25 = np.nanpercentile(df[\"N_avg\"], [75 ,25])\n",
    "iqr = q75 - q25"
   ]
  },
  {
   "cell_type": "code",
   "execution_count": 121,
   "metadata": {},
   "outputs": [],
   "source": [
    "strong_outliers = q75 + 3 * iqr"
   ]
  },
  {
   "cell_type": "code",
   "execution_count": 135,
   "metadata": {},
   "outputs": [
    {
     "data": {
      "text/plain": [
       "(2038, 29)"
      ]
     },
     "execution_count": 135,
     "metadata": {},
     "output_type": "execute_result"
    }
   ],
   "source": [
    "df.dropna(subset=[x_col, y_col]).shape"
   ]
  },
  {
   "cell_type": "code",
   "execution_count": 134,
   "metadata": {},
   "outputs": [
    {
     "data": {
      "text/plain": [
       "2041"
      ]
     },
     "execution_count": 134,
     "metadata": {},
     "output_type": "execute_result"
    }
   ],
   "source": [
    "df.shape[0]"
   ]
  },
  {
   "cell_type": "code",
   "execution_count": 137,
   "metadata": {},
   "outputs": [
    {
     "data": {
      "text/plain": [
       "(1831, 29)"
      ]
     },
     "execution_count": 137,
     "metadata": {},
     "output_type": "execute_result"
    }
   ],
   "source": [
    "df_.shape"
   ]
  },
  {
   "cell_type": "code",
   "execution_count": 130,
   "metadata": {},
   "outputs": [
    {
     "data": {
      "text/plain": [
       "(1735, 29)"
      ]
     },
     "execution_count": 130,
     "metadata": {},
     "output_type": "execute_result"
    }
   ],
   "source": [
    "df_.loc[df.N_avg < strong_outliers].shape"
   ]
  },
  {
   "cell_type": "code",
   "execution_count": 133,
   "metadata": {},
   "outputs": [
    {
     "data": {
      "text/plain": [
       "0"
      ]
     },
     "execution_count": 133,
     "metadata": {},
     "output_type": "execute_result"
    }
   ],
   "source": [
    "df[\"# of Currently Positive Staff\"].isna().sum()"
   ]
  },
  {
   "cell_type": "code",
   "execution_count": null,
   "metadata": {},
   "outputs": [],
   "source": [
    "df.loc[df.N_avg < 150]"
   ]
  },
  {
   "cell_type": "code",
   "execution_count": 145,
   "metadata": {},
   "outputs": [],
   "source": [
    "x_col = \"# of Currently Positive Staff\"\n",
    "y_col = \"N_avg\"\n",
    "df_ = df.dropna(subset=[x_col, y_col]).copy()\n",
    "df_ = df_.loc[df_.N_avg < 50000]\n",
    "X = df_[[x_col]]\n",
    "y = df_[[y_col]]\n",
    "\n",
    "X_train, X_test, y_train, y_test = split_data(X, y)\n",
    "\n",
    "\n",
    "\n",
    "X_train_detransformed = pd.DataFrame({x_col: inverse_transform(X_train, X).reshape(-1)})\n",
    "X_test_detransformed = pd.DataFrame({x_col: inverse_transform(X_test, X).reshape(-1)})\n",
    "\n",
    "y_train_detransformed = pd.DataFrame({y_col: inverse_transform(y_train, y).reshape(-1)})\n",
    "y_test_detransformed = pd.DataFrame({y_col: inverse_transform(y_test, y).reshape(-1)})"
   ]
  },
  {
   "cell_type": "code",
   "execution_count": 146,
   "metadata": {},
   "outputs": [
    {
     "name": "stdout",
     "output_type": "stream",
     "text": [
      "0.0596497842981808\n",
      "               model  rmse_train  rmse_test\n",
      "0  Linear Model (lm)     1.01244   0.793901\n"
     ]
    },
    {
     "data": {
      "image/png": "[encoded data removed]",
      "text/plain": [
       "<Figure size 432x288 with 1 Axes>"
      ]
     },
     "metadata": {
      "needs_background": "light"
     },
     "output_type": "display_data"
    }
   ],
   "source": [
    "lm = LinearRegression()\n",
    "lm.fit(X_train, y_train)\n",
    "\n",
    "# Training data\n",
    "pred_train = lm.predict(X_train)\n",
    "rmse_train = mean_squared_error(y_train, pred_train, squared=False)\n",
    "\n",
    "# Test data\n",
    "pred_test = lm.predict(X_test)\n",
    "rmse_test =mean_squared_error(y_test, pred_test, squared=False)\n",
    "\n",
    "\n",
    "# Save model results\n",
    "model_results_lm = pd.DataFrame(\n",
    "    {\n",
    "    \"model\": \"Linear Model (lm)\",  \n",
    "    \"rmse_train\": [rmse_train], \n",
    "    \"rmse_test\": [rmse_test],\n",
    "    })\n",
    "print(model_results_lm)\n",
    "\n",
    "sns.regplot(x=X_train_detransformed[x_col], \n",
    "            y=y_train_detransformed[y_col],\n",
    "            ci=None, \n",
    "            line_kws={\"color\": \"orange\"});"
   ]
  },
  {
   "cell_type": "code",
   "execution_count": 147,
   "metadata": {},
   "outputs": [
    {
     "name": "stdout",
     "output_type": "stream",
     "text": [
      "0.06092933057170846\n",
      "                   model  rmse_train  rmse_test\n",
      "0  Polynomial Model (pm)    1.010957    0.79336\n"
     ]
    },
    {
     "data": {
      "image/png": "[encoded data removed]",
      "text/plain": [
       "<Figure size 432x288 with 1 Axes>"
      ]
     },
     "metadata": {
      "needs_background": "light"
     },
     "output_type": "display_data"
    }
   ],
   "source": [
    "\n",
    "# polynomial degree 2\n",
    "poly = PolynomialFeatures(2)\n",
    "\n",
    "X_train_poly = poly.fit_transform(X_train)\n",
    "X_test_poly = poly.fit_transform(X_test)\n",
    "\n",
    "\n",
    "pm = LinearRegression()\n",
    "pm.fit(X_train_poly,y_train)\n",
    "\n",
    "\n",
    "# Training data\n",
    "pred_train = pm.predict(X_train_poly)\n",
    "rmse_train = mean_squared_error(y_train, \n",
    "                                pred_train, \n",
    "                                squared=False)\n",
    "\n",
    "# Test data\n",
    "pred_test = pm.predict(X_test_poly)\n",
    "rmse_test =mean_squared_error(y_test, \n",
    "                              pred_test, \n",
    "                              squared=False)\n",
    "\n",
    "\n",
    "# Save model results\n",
    "model_results_pm = pd.DataFrame(\n",
    "    {\n",
    "    \"model\": \"Polynomial Model (pm)\",  \n",
    "    \"rmse_train\": [rmse_train], \n",
    "    \"rmse_test\": [rmse_test],\n",
    "    })\n",
    "\n",
    "print(model_results_pm)\n",
    "\n",
    "# plot\n",
    "sns.regplot(x=X_train_detransformed[x_col], \n",
    "            y=y_train_detransformed[y_col],\n",
    "            ci=None, \n",
    "            order=2, \n",
    "            line_kws={\"color\": \"orange\"});"
   ]
  },
  {
   "cell_type": "code",
   "execution_count": 148,
   "metadata": {},
   "outputs": [],
   "source": [
    "\n",
    "\n",
    "knots=\"2, 4, 6\"\n",
    "transformed_x = dmatrix(\n",
    "            f\"bs(train, knots=({knots}), degree=3, include_intercept=False)\", \n",
    "                {\"train\": X_train},return_type='dataframe')\n",
    "\n",
    "cs = sm.GLM(y_train, transformed_x).fit()"
   ]
  },
  {
   "cell_type": "code",
   "execution_count": 150,
   "metadata": {},
   "outputs": [
    {
     "name": "stdout",
     "output_type": "stream",
     "text": [
      "-0.00014320536567069553\n",
      "               model  rmse_train  rmse_test\n",
      "0  Cubic spline (cs)     0.99596   0.818752\n"
     ]
    },
    {
     "data": {
      "image/png": "[encoded data removed]",
      "text/plain": [
       "<Figure size 432x288 with 1 Axes>"
      ]
     },
     "metadata": {
      "needs_background": "light"
     },
     "output_type": "display_data"
    }
   ],
   "source": [
    "\n",
    "# Generating cubic spline with 3 knots at 10,20,30\n",
    "transformed_x = dmatrix(\n",
    "            f\"bs(train, knots=({knots}), degree=3, include_intercept=False)\", \n",
    "                {\"train\": X_train},return_type='dataframe')\n",
    "\n",
    "cs = sm.GLM(y_train, transformed_x).fit()\n",
    "\n",
    "\n",
    "# Training data\n",
    "pred_train = cs.predict(dmatrix(f\"bs(train, knots=({knots}), include_intercept=False)\", {\"train\": X_train}, return_type='dataframe'))\n",
    "rmse_train = mean_squared_error(y_train, pred_train, squared=False)\n",
    "\n",
    "# Test data\n",
    "pred_test = cs.predict(dmatrix(f\"bs(test, knots=({knots}), include_intercept=False)\", {\"test\": X_test}, return_type='dataframe'))\n",
    "rmse_test =mean_squared_error(y_test, pred_test, squared=False)\n",
    "\n",
    "\n",
    "# Save model results\n",
    "model_results_cs = pd.DataFrame(\n",
    "    {\n",
    "    \"model\": \"Cubic spline (cs)\",  \n",
    "    \"rmse_train\": [rmse_train], \n",
    "    \"rmse_test\": [rmse_test]\n",
    "    })\n",
    "\n",
    "print(model_results_cs)\n",
    "\n",
    "\n",
    "\n",
    "# Create observations\n",
    "xp = np.linspace(X_test.min(),X_test.max(), 100)\n",
    "xp_detransformed = inverse_transform(xp.reshape(-1, 1), X)\n",
    "# Make some predictions\n",
    "pred = cs.predict(dmatrix(f\"bs(xp, knots=({knots}), include_intercept=False)\", {\"xp\": xp}, return_type='dataframe'))\n",
    "pred = inverse_transform(pred.to_frame(), X)\n",
    "# plot\n",
    "sns.scatterplot(x=X_train_detransformed[x_col], \n",
    "            y=y_train_detransformed[y_col],)\n",
    "\n",
    "plt.plot(xp_detransformed, pred, label='Cubic spline with degree=3 (3 knots)', color='orange')\n",
    "plt.legend();"
   ]
  },
  {
   "cell_type": "code",
   "execution_count": 144,
   "metadata": {},
   "outputs": [
    {
     "name": "stdout",
     "output_type": "stream",
     "text": [
      "0.0628923378733669\n",
      "                        model  rmse_train  rmse_test\n",
      "0  Natural cubic spline (ncs)    0.882279   1.063142\n"
     ]
    },
    {
     "data": {
      "image/png": "[encoded data removed]",
      "text/plain": [
       "<Figure size 432x288 with 1 Axes>"
      ]
     },
     "metadata": {
      "needs_background": "light"
     },
     "output_type": "display_data"
    }
   ],
   "source": [
    "\n",
    "transformed_x3 = dmatrix(\"cr(train,df = 3)\", {\"train\": X_train}, return_type='dataframe')\n",
    "\n",
    "ncs = sm.GLM(y_train, transformed_x3).fit()\n",
    "\n",
    "# Training data\n",
    "pred_train = ncs.predict(dmatrix(\"cr(train, df=3)\", {\"train\": X_train}, return_type='dataframe'))\n",
    "rmse_train = mean_squared_error(y_train, pred_train, squared=False)\n",
    "\n",
    "# Test data\n",
    "pred_test = ncs.predict(dmatrix(\"cr(test, df=3)\", {\"test\": X_test}, return_type='dataframe'))\n",
    "rmse_test =mean_squared_error(y_test, pred_test, squared=False)\n",
    "\n",
    "# Save model results\n",
    "model_results_ncs = pd.DataFrame(\n",
    "    {\n",
    "    \"model\": \"Natural cubic spline (ncs)\",  \n",
    "    \"rmse_train\": [rmse_train], \n",
    "    \"rmse_test\": [rmse_test]\n",
    "    })\n",
    "\n",
    "print(model_results_ncs)\n",
    "\n",
    "# Make predictions\n",
    "pred = ncs.predict(dmatrix(\"cr(xp, df=3)\", {\"xp\": xp}, return_type='dataframe'))\n",
    "pred = inverse_transform(pred.to_frame(), X)\n",
    "# plot\n",
    "sns.scatterplot(x=X_train_detransformed[x_col], \n",
    "            y=y_train_detransformed[y_col],)\n",
    "plt.plot(xp_detransformed, pred, color='orange', label='Natural spline with df=3')\n",
    "plt.legend();"
   ]
  },
  {
   "cell_type": "code",
   "execution_count": 101,
   "metadata": {},
   "outputs": [
    {
     "name": "stdout",
     "output_type": "stream",
     "text": [
      "                        model  rmse_train  rmse_test\n",
      "0           Linear Model (lm)    1.012440   0.793901\n",
      "0       Polynomial Model (pm)    1.010957   0.793360\n",
      "0           Cubic spline (cs)    0.995960   0.818752\n",
      "0  Natural cubic spline (ncs)    1.010676   0.804577\n"
     ]
    }
   ],
   "source": [
    "results = pd.DataFrame(columns=[\"model\", \"rmse_train\", \"rmse_test\"])\n",
    "results = pd.concat([results, model_results_lm, model_results_pm, model_results_cs, model_results_ncs], axis=0)\n",
    "\n",
    "print(results)"
   ]
  }
 ],
 "metadata": {
  "interpreter": {
   "hash": "887757c8ae93afec2fe67aab4ded190605832368eab94a71e38f3147a3ea273f"
  },
  "kernelspec": {
   "display_name": "Python 3.7.13 ('stats_ML')",
   "language": "python",
   "name": "python3"
  },
  "language_info": {
   "codemirror_mode": {
    "name": "ipython",
    "version": 3
   },
   "file_extension": ".py",
   "mimetype": "text/x-python",
   "name": "python",
   "nbconvert_exporter": "python",
   "pygments_lexer": "ipython3",
   "version": "3.7.13"
  },
  "orig_nbformat": 4
 },
 "nbformat": 4,
 "nbformat_minor": 2
}
